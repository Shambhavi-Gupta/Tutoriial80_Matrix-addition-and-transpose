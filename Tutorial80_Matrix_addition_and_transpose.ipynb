{
  "nbformat": 4,
  "nbformat_minor": 0,
  "metadata": {
    "colab": {
      "name": "Tutorial80_Matrix-addition-and-transpose.ipynb",
      "provenance": [],
      "authorship_tag": "ABX9TyOcVw2AG5ZhQU8tMBfSfXT5",
      "include_colab_link": true
    },
    "kernelspec": {
      "name": "python3",
      "display_name": "Python 3"
    }
  },
  "cells": [
    {
      "cell_type": "markdown",
      "metadata": {
        "id": "view-in-github",
        "colab_type": "text"
      },
      "source": [
        "<a href=\"https://colab.research.google.com/github/Shambhavi-Gupta/Tutoriial80_Matrix-addition-and-transpose/blob/main/Tutorial80_Matrix_addition_and_transpose.ipynb\" target=\"_parent\"><img src=\"https://colab.research.google.com/assets/colab-badge.svg\" alt=\"Open In Colab\"/></a>"
      ]
    },
    {
      "cell_type": "code",
      "metadata": {
        "id": "KJMQk73_waHn"
      },
      "source": [
        "import numpy as np\r\n",
        "# a = np.array([[1,2],[3,4]])\r\n",
        "# b = np.array([[20,30],[40,50]])\r\n",
        "# print(a)\r\n",
        "# print(b)\r\n",
        "# print(a+b)\r\n",
        "# a = np.array([1,2,3,4])\r\n",
        "# b = np.array([1,2,3,4])\r\n",
        "# print(a)\r\n",
        "# print(b)\r\n",
        "# print(a+b)\r\n",
        "\r\n",
        "a = np.array([[1,2,3],[4,5,6]])\r\n",
        "print(a)\r\n",
        "print(np.transpose(a))\r\n",
        "print(a.transpose())"
      ],
      "execution_count": null,
      "outputs": []
    }
  ]
}